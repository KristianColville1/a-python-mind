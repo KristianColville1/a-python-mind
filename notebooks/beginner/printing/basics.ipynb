{
 "cells": [
  {
   "cell_type": "markdown",
   "metadata": {},
   "source": [
    "We use the print function to print statements to the terminal so we can read them.\n",
    "\n",
    "Within the parentheses we place the items to print.\n",
    "\n",
    "\"Hello, World!\" is a string of characters."
   ]
  },
  {
   "cell_type": "code",
   "execution_count": 1,
   "metadata": {},
   "outputs": [
    {
     "name": "stdout",
     "output_type": "stream",
     "text": [
      "Hello, World.\n"
     ]
    }
   ],
   "source": [
    "print()\n",
    "print('Hello, World!')"
   ]
  },
  {
   "cell_type": "markdown",
   "metadata": {},
   "source": [
    "When writing strings of text it is important to remember that whichever quotes you use do not matter. What matters is how you use quotes when text within strings might need to have quotes.\n",
    "\n",
    "You can use either to represent text in quotes as long as the opposite is within. The reason being to distinguish between where a string ends and a quoted block of text begins within a string.\n",
    "\n",
    "The resulting error is known as a syntax error.\n",
    "\n",
    "Example a:"
   ]
  },
  {
   "cell_type": "code",
   "execution_count": 2,
   "metadata": {},
   "outputs": [
    {
     "ename": "SyntaxError",
     "evalue": "EOL while scanning string literal (3679267662.py, line 1)",
     "output_type": "error",
     "traceback": [
      "\u001b[0;36m  File \u001b[0;32m\"/tmp/ipykernel_27739/3679267662.py\"\u001b[0;36m, line \u001b[0;32m1\u001b[0m\n\u001b[0;31m    print('Day 1 - String Manipulation\")\u001b[0m\n\u001b[0m                                        ^\u001b[0m\n\u001b[0;31mSyntaxError\u001b[0m\u001b[0;31m:\u001b[0m EOL while scanning string literal\n"
     ]
    }
   ],
   "source": [
    "print('Day 1 - String Manipulation\")\n",
    "print('String Concatenation is done with the \"+' sign.')\n",
    "print('e.g. print(\"Hello ' + 'world\")')\n",
    "print(\"New lines can be created with a backslash and n.\")\n"
   ]
  },
  {
   "cell_type": "markdown",
   "metadata": {},
   "source": [
    "Example b:"
   ]
  },
  {
   "cell_type": "code",
   "execution_count": 3,
   "metadata": {},
   "outputs": [
    {
     "name": "stdout",
     "output_type": "stream",
     "text": [
      "Day 1 - String Manipulation\n",
      "String Concatenation is done with the \"+\" sign.\n",
      "e.g. print(\"Hello \" + \"world\")\n",
      "New lines can be created with a backslash and n.\n"
     ]
    }
   ],
   "source": [
    "\n",
    "print(\"Day 1 - String Manipulation\")\n",
    "print('String Concatenation is done with the \"+\" sign.')\n",
    "print('e.g. print(\"Hello \" + \"world\")')\n",
    "print(\"New lines can be created with a backslash and n.\")"
   ]
  },
  {
   "cell_type": "markdown",
   "metadata": {},
   "source": [
    "There are many built in functions within python as with most programming languages. Two more commonly used functions are the input and length functions.\n",
    "\n",
    "The input function takes the users input, you can insert a string asking the user for input.\n",
    "\n",
    "The length function returns the length of an object that is iterable like a string. length has abbreviated to 'len' in python"
   ]
  },
  {
   "cell_type": "code",
   "execution_count": 4,
   "metadata": {},
   "outputs": [
    {
     "name": "stdout",
     "output_type": "stream",
     "text": [
      "Kristian\n",
      "8\n"
     ]
    }
   ],
   "source": [
    "username = input('Enter your name here: ')\n",
    "\n",
    "print(username)\n",
    "print(len(username))"
   ]
  }
 ],
 "metadata": {
  "interpreter": {
   "hash": "dd3b9d673b4bfe33482a03e78865e70547be2b43c3746f7ba94faa9d297d0631"
  },
  "kernelspec": {
   "display_name": "Python 3.9.7 ('base')",
   "language": "python",
   "name": "python3"
  },
  "language_info": {
   "codemirror_mode": {
    "name": "ipython",
    "version": 3
   },
   "file_extension": ".py",
   "mimetype": "text/x-python",
   "name": "python",
   "nbconvert_exporter": "python",
   "pygments_lexer": "ipython3",
   "version": "3.9.7"
  },
  "orig_nbformat": 4
 },
 "nbformat": 4,
 "nbformat_minor": 2
}
