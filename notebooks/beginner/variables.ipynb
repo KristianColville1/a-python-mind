{
 "cells": [
  {
   "cell_type": "markdown",
   "metadata": {},
   "source": [
    "Variables are used to store objects of different types such as strings and numbers.\n",
    "\n",
    "They are a reference to the value stored in computer memory, like a name tag on a piece of clothing. Another way to visualize them is to think of boxes.\n",
    "\n",
    "consider the following example:\n",
    "You have two variables a & b.\n",
    "Swap the values between the two.\n",
    "\n"
   ]
  },
  {
   "cell_type": "code",
   "execution_count": 7,
   "metadata": {},
   "outputs": [
    {
     "name": "stdout",
     "output_type": "stream",
     "text": [
      "a:  10\n",
      "b:  234\n",
      "\n",
      "\n",
      "\n",
      "a:  234\n",
      "b:  10\n"
     ]
    }
   ],
   "source": [
    "a = 10\n",
    "b = 234\n",
    "\n",
    "print('a: ', a)\n",
    "print('b: ', b)\n",
    "print('\\n\\n')\n",
    "\n",
    "c = a\n",
    "a = b\n",
    "b = c\n",
    "\n",
    "print('a: ', a)\n",
    "print('b: ', b)\n",
    "\n"
   ]
  }
 ],
 "metadata": {
  "interpreter": {
   "hash": "21ce887038d63e38a8e20f156bca81f86a9a132f5f35b29f8d583d0687a71576"
  },
  "kernelspec": {
   "display_name": "Python 3.9.7 ('.venv': venv)",
   "language": "python",
   "name": "python3"
  },
  "language_info": {
   "codemirror_mode": {
    "name": "ipython",
    "version": 3
   },
   "file_extension": ".py",
   "mimetype": "text/x-python",
   "name": "python",
   "nbconvert_exporter": "python",
   "pygments_lexer": "ipython3",
   "version": "3.9.7"
  },
  "orig_nbformat": 4
 },
 "nbformat": 4,
 "nbformat_minor": 2
}
